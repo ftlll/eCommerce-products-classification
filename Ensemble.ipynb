{
  "nbformat": 4,
  "nbformat_minor": 0,
  "metadata": {
    "colab": {
      "name": "Ensemble.ipynb",
      "provenance": [],
      "collapsed_sections": []
    },
    "kernelspec": {
      "name": "python3",
      "display_name": "Python 3"
    },
    "language_info": {
      "name": "python"
    }
  },
  "cells": [
    {
      "cell_type": "markdown",
      "metadata": {
        "id": "k6TcyG0YS840"
      },
      "source": [
        "# Import Data"
      ]
    },
    {
      "cell_type": "code",
      "metadata": {
        "id": "7g96XGr1b-vy"
      },
      "source": [
        "from google.colab import drive\n",
        "drive.mount('/content/drive')\n",
        "!unzip 'drive/MyDrive/Colab Notebooks/uw-cs480-fall20.zip'"
      ],
      "execution_count": null,
      "outputs": []
    },
    {
      "cell_type": "markdown",
      "metadata": {
        "id": "KoWSJdPeZATb"
      },
      "source": [
        "## Import models"
      ]
    },
    {
      "cell_type": "code",
      "metadata": {
        "id": "flbGox0YdtJD"
      },
      "source": [
        "from google.colab import files\n",
        "uploaded = files.upload()\n",
        "%ls"
      ],
      "execution_count": null,
      "outputs": []
    },
    {
      "cell_type": "code",
      "metadata": {
        "id": "EEmaLy3IS67a"
      },
      "source": [
        "import pandas as pd\n",
        "import numpy as np\n",
        "import math\n",
        "from sklearn.model_selection import train_test_split\n",
        "from sklearn.metrics import accuracy_score\n",
        "from tqdm import tqdm\n",
        "# PyTorch libraries and modules\n",
        "import torch\n",
        "import torch.nn as nn\n",
        "import torchvision\n",
        "from torch.autograd import Variable\n",
        "from torch.nn import Linear, ReLU, CrossEntropyLoss, Sequential, Conv2d, MaxPool2d, Module, Softmax, BatchNorm2d, Dropout\n",
        "\n",
        "\n",
        "from torch.optim import Adam, SGD\n",
        "from torch.utils.data import Dataset, DataLoader\n",
        "import torch.nn.functional as F\n",
        "\n",
        "import time\n",
        "\n",
        "from sklearn.metrics import confusion_matrix\n",
        "from sklearn.metrics import ConfusionMatrixDisplay\n"
      ],
      "execution_count": 2,
      "outputs": []
    },
    {
      "cell_type": "markdown",
      "metadata": {
        "id": "bufKLN2jT9Zu"
      },
      "source": [
        "# create ensemble model"
      ]
    },
    {
      "cell_type": "code",
      "metadata": {
        "id": "uXmQNhtsT60Q"
      },
      "source": [
        "class MyEnsemble(nn.Module):\n",
        "    def __init__(self, _cnn, _rnn, _nn):\n",
        "        super(MyEnsemble, self).__init__()\n",
        "        self.cnn = _cnn\n",
        "        self.rnn = _rnn\n",
        "        self.nn = _nn\n",
        "        self.classifier2 = nn.Linear(81, 200)\n",
        "        self.classifier1 = nn.Linear(200, 100)\n",
        "        self.classifier = nn.Linear(100, 27)\n",
        "        \n",
        "    def forward(self, image, description, l, features):\n",
        "        x1 = self.cnn(image)\n",
        "        x2 = self.rnn(description, l)\n",
        "        x3 = self.nn(features)\n",
        "\n",
        "\n",
        "        x = torch.cat((x1, x2, x3), dim=1)\n",
        "        x = self.classifier2(F.relu(x))\n",
        "        x = self.classifier1(F.relu(x))\n",
        "        x = self.classifier(F.relu(x))\n",
        "        return x"
      ],
      "execution_count": null,
      "outputs": []
    },
    {
      "cell_type": "code",
      "metadata": {
        "id": "cb--yYymUQdY"
      },
      "source": [
        "def epoch_time(start_time, end_time):\n",
        "    elapsed_time = end_time - start_time\n",
        "    elapsed_mins = int(elapsed_time / 60)\n",
        "    elapsed_secs = int(elapsed_time - (elapsed_mins * 60))\n",
        "    return elapsed_mins, elapsed_secs\n",
        "\n",
        "def calculate_accuracy(y_pred, y):\n",
        "    top_pred = y_pred.argmax(1, keepdim = True)\n",
        "    correct = top_pred.eq(y.view_as(top_pred)).sum()\n",
        "    acc = correct.float() / y.shape[0]\n",
        "    return acc\n",
        "\n",
        "def train(model, iterator, optimizer, criterion, device):\n",
        "    \n",
        "    epoch_loss = 0\n",
        "    epoch_acc = 0\n",
        "    \n",
        "    model.train()\n",
        "    \n",
        "    for (image, (description, l), features, y) in iterator:\n",
        "\n",
        "        optimizer.zero_grad()\n",
        "\n",
        "        y_pred = model(image, description, l, features)\n",
        "        \n",
        "        \n",
        "        loss = criterion(y_pred, y)\n",
        "        \n",
        "        acc = calculate_accuracy(y_pred, y)\n",
        "        \n",
        "        loss.backward()\n",
        "        \n",
        "        optimizer.step()\n",
        "        \n",
        "        epoch_loss += loss.item()\n",
        "        epoch_acc += acc.item()\n",
        "        \n",
        "    return epoch_loss / len(iterator), epoch_acc / len(iterator)\n",
        "\n",
        "def evaluate_nn(model, iterator, criterion, device):\n",
        "    \n",
        "    epoch_loss = 0\n",
        "    epoch_acc = 0\n",
        "    \n",
        "    model.eval()\n",
        "    \n",
        "    with torch.no_grad():\n",
        "\n",
        "        for (image, (description, l), features, y) in iterator:\n",
        "\n",
        "            description = description.to(device, dtype=torch.long)\n",
        "            # l = l.to(device, dtype=torch.long)\n",
        "            l = l.long()\n",
        "            \n",
        "            image = image.to(device)\n",
        "            features = features.to(device)\n",
        "        \n",
        "            y = y.to(device, dtype=torch.int64)\n",
        "                    \n",
        "            # y_pred = model(image)\n",
        "            y_pred = model(image, description, l, features)\n",
        "            \n",
        "            loss = criterion(y_pred, y)\n",
        "            \n",
        "            acc = calculate_accuracy(y_pred, y)\n",
        "            \n",
        "            epoch_loss += loss.item()\n",
        "            epoch_acc += acc.item()\n",
        "        \n",
        "    return epoch_loss / len(iterator), epoch_acc / len(iterator)"
      ],
      "execution_count": null,
      "outputs": []
    },
    {
      "cell_type": "code",
      "metadata": {
        "id": "xfbgfCMHUa48"
      },
      "source": [
        "riterion = CrossEntropyLoss()\n",
        "criterion = criterion.cuda()\n",
        "\n",
        "\n",
        "cnn_model = CNN()\n",
        "cnn_model.load_state_dict(torch.load('cnn-model.pt'))\n",
        "\n",
        "\n",
        "rnn_model = RNN()\n",
        "rnn_model.load_state_dict(torch.load('rnn-model.pt'))\n",
        "# test_loss, test_acc = evaluate_cnn(rnn_model, cnn_valid_iterator, criterion, device)\n",
        "# print(f'Test Loss: {test_loss:.3f} | Test Acc: {test_acc*100:.2f}%')\n",
        "\n",
        "nn_model = NN(4, 15, 27)\n",
        "nn_model.load_state_dict(torch.load('linear-model.pt'))\n",
        "\n",
        "ensamble_model = MyEnsemble(cnn_model, rnn_model, nn_model)\n",
        "\n",
        "optimizer = Adam(ensamble_model.parameters(), lr=0.0001)"
      ],
      "execution_count": null,
      "outputs": []
    },
    {
      "cell_type": "code",
      "metadata": {
        "id": "CU3xj3ccUs_M"
      },
      "source": [
        "model.load_state_dict(torch.load('output/combine-model.pt'))\n",
        "test_loss, test_acc = evaluate_cnn(model, cnn_valid_iterator, criterion, device)\n",
        "\n",
        "print(f'Test Loss: {test_loss:.3f} | Test Acc: {test_acc*100:.2f}%')\n",
        "\n",
        "\n",
        "train_accuracy_list = []\n",
        "train_loss_list = []\n",
        "valid_acc_list = []\n",
        "valid_loss_list = []\n",
        "best_valid_loss = test_loss\n",
        "\n",
        "for epoch in range(EPOCHS):\n",
        "\n",
        "    start_time = time.monotonic()\n",
        "\n",
        "    # train\n",
        "    train_loss, train_acc = train(model, train_iterator, optimizer, criterion, device)\n",
        "    \n",
        "    # valid\n",
        "    valid_loss, valid_acc = evaluate_cnn(model, valid_iterator, criterion, device)\n",
        "\n",
        "    # save best model\n",
        "    if valid_loss < best_valid_loss:\n",
        "        best_valid_loss = valid_loss\n",
        "        torch.save(model.state_dict(), 'output/combine-model.pt')\n",
        "\n",
        "    # Track the accuracy\n",
        "    train_accuracy_list.append(train_acc)\n",
        "    train_loss_list.append(train_loss)\n",
        "    valid_acc_list.append(valid_acc)\n",
        "    valid_loss_list.append(valid_loss）"
      ],
      "execution_count": null,
      "outputs": []
    },
    {
      "cell_type": "markdown",
      "metadata": {
        "id": "L-G3zfv5ePb8"
      },
      "source": [
        "# Output prediction"
      ]
    },
    {
      "cell_type": "code",
      "metadata": {
        "id": "svSovum-dvXU"
      },
      "source": [
        ""
      ],
      "execution_count": null,
      "outputs": []
    }
  ]
}